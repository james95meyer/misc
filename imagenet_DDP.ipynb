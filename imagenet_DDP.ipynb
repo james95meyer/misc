{
 "cells": [
  {
   "cell_type": "code",
   "execution_count": 1,
   "id": "c2e1905f",
   "metadata": {
    "executionInfo": {
     "elapsed": 4198,
     "status": "ok",
     "timestamp": 1624759883403,
     "user": {
      "displayName": "Dima Rekesh",
      "photoUrl": "https://lh3.googleusercontent.com/a-/AOh14GgCxhnQN9cW764WS8AiJguM8wE5foCZLMjr-NyFuQ=s64",
      "userId": "05362657998610812765"
     },
     "user_tz": 420
    },
    "id": "f2513038"
   },
   "outputs": [
    {
     "name": "stderr",
     "output_type": "stream",
     "text": [
      "/usr/local/lib/python3.8/dist-packages/tqdm/auto.py:22: TqdmWarning: IProgress not found. Please update jupyter and ipywidgets. See https://ipywidgets.readthedocs.io/en/stable/user_install.html\n",
      "  from .autonotebook import tqdm as notebook_tqdm\n"
     ]
    }
   ],
   "source": [
    "import os\n",
    "import random\n",
    "import shutil\n",
    "import time\n",
    "import warnings\n",
    "\n",
    "import torch\n",
    "import torch.nn as nn\n",
    "import torch.backends.cudnn as cudnn\n",
    "import torch.optim\n",
    "from torch.cuda.amp import autocast, GradScaler\n",
    "\n",
    "import torch.utils.data\n",
    "import torchvision\n",
    "import torchvision.transforms as transforms\n",
    "import torchvision.datasets as datasets\n",
    "import torchvision.models as models\n",
    "from torch.utils.tensorboard import SummaryWriter\n",
    "import torch.distributed as dist\n"
   ]
  },
  {
   "cell_type": "code",
   "execution_count": 2,
   "id": "f0e9104d",
   "metadata": {},
   "outputs": [],
   "source": [
    "#writer = SummaryWriter(log_dir=\"/data/runs\")"
   ]
  },
  {
   "cell_type": "code",
   "execution_count": 3,
   "id": "919d5c48",
   "metadata": {
    "executionInfo": {
     "elapsed": 354,
     "status": "ok",
     "timestamp": 1624759889299,
     "user": {
      "displayName": "Dima Rekesh",
      "photoUrl": "https://lh3.googleusercontent.com/a-/AOh14GgCxhnQN9cW764WS8AiJguM8wE5foCZLMjr-NyFuQ=s64",
      "userId": "05362657998610812765"
     },
     "user_tz": 420
    },
    "id": "02d1a0c0"
   },
   "outputs": [],
   "source": [
    "SEED=1"
   ]
  },
  {
   "cell_type": "code",
   "execution_count": 4,
   "id": "75bdda8c",
   "metadata": {
    "executionInfo": {
     "elapsed": 17,
     "status": "ok",
     "timestamp": 1624759891917,
     "user": {
      "displayName": "Dima Rekesh",
      "photoUrl": "https://lh3.googleusercontent.com/a-/AOh14GgCxhnQN9cW764WS8AiJguM8wE5foCZLMjr-NyFuQ=s64",
      "userId": "05362657998610812765"
     },
     "user_tz": 420
    },
    "id": "b1b9bfde"
   },
   "outputs": [],
   "source": [
    "random.seed(SEED)\n",
    "torch.manual_seed(SEED)\n",
    "cudnn.deterministic = True"
   ]
  },
  {
   "cell_type": "code",
   "execution_count": 5,
   "id": "44b396f0",
   "metadata": {
    "id": "073b7b81"
   },
   "outputs": [],
   "source": [
    "START_EPOCH = 0"
   ]
  },
  {
   "cell_type": "code",
   "execution_count": 6,
   "id": "67371e70",
   "metadata": {
    "id": "5e18ae51",
    "tags": [
     "parameters"
    ]
   },
   "outputs": [],
   "source": [
    "ARCH = 'resnet18'\n",
    "EPOCHS = 1\n",
    "LR = 0.1\n",
    "MOMENTUM = 0.9\n",
    "WEIGHT_DECAY = 1e-4\n",
    "PRINT_FREQ = 10\n",
    "TRAIN_BATCH=1028\n",
    "VAL_BATCH=1028\n",
    "WORKERS=8\n",
    "TRAINDIR=\"/data/imagenet/train\"\n",
    "VALDIR=\"/data/imagenet/val\"\n",
    "GPU = 0"
   ]
  },
  {
   "cell_type": "code",
   "execution_count": 7,
   "id": "4c1ced5e",
   "metadata": {
    "colab": {
     "base_uri": "https://localhost:8080/"
    },
    "executionInfo": {
     "elapsed": 137,
     "status": "ok",
     "timestamp": 1622949197302,
     "user": {
      "displayName": "Jayanth Srinivasa",
      "photoUrl": "",
      "userId": "03369694624178485882"
     },
     "user_tz": 420
    },
    "id": "c6bf6a83",
    "outputId": "72d2e92f-7574-4c0a-c813-288cd69eaa36"
   },
   "outputs": [],
   "source": [
    "if not torch.cuda.is_available():\n",
    "    print('GPU not detected.. did you pass through your GPU?')"
   ]
  },
  {
   "cell_type": "code",
   "execution_count": null,
   "id": "fe92241d",
   "metadata": {},
   "outputs": [],
   "source": [
    "WORLD_SIZE = 2\n",
    "BACKEND = 'nccl'\n",
    "URL = 'tcp://35.88.117.239:1234'\n",
    "RANK = 0"
   ]
  },
  {
   "cell_type": "code",
   "execution_count": null,
   "id": "9be1b2cc",
   "metadata": {},
   "outputs": [],
   "source": [
    "dist.init_process_group(backend = BACKEND, init_method = URL, world_size = WORLD_SIZE, rank=RANK)"
   ]
  },
  {
   "cell_type": "code",
   "execution_count": 8,
   "id": "caf94355",
   "metadata": {
    "id": "acd97390"
   },
   "outputs": [],
   "source": [
    "torch.cuda.set_device(GPU)"
   ]
  },
  {
   "cell_type": "code",
   "execution_count": 9,
   "id": "ca6cd620",
   "metadata": {
    "id": "e19a5849"
   },
   "outputs": [],
   "source": [
    "cudnn.benchmark = True"
   ]
  },
  {
   "cell_type": "code",
   "execution_count": 10,
   "id": "311c7eff",
   "metadata": {},
   "outputs": [],
   "source": [
    "global_step = 0"
   ]
  },
  {
   "cell_type": "code",
   "execution_count": 11,
   "id": "98c107c4",
   "metadata": {},
   "outputs": [],
   "source": [
    "scaler = GradScaler()"
   ]
  },
  {
   "cell_type": "code",
   "execution_count": 12,
   "id": "6d27b522",
   "metadata": {
    "id": "4e65743f"
   },
   "outputs": [],
   "source": [
    "def train(train_loader, model, criterion, optimizer, epoch):\n",
    "    global global_step\n",
    "    batch_time = AverageMeter('Time', ':6.3f')\n",
    "    data_time = AverageMeter('Data', ':6.3f')\n",
    "    losses = AverageMeter('Loss', ':.4e')\n",
    "    top1 = AverageMeter('Acc@1', ':6.2f')\n",
    "    top5 = AverageMeter('Acc@5', ':6.2f')\n",
    "    progress = ProgressMeter(\n",
    "        len(train_loader),\n",
    "        [batch_time, data_time, losses, top1, top5],\n",
    "        prefix=\"Epoch: [{}]\".format(epoch))\n",
    "\n",
    "    # switch to train mode\n",
    "    model.train()\n",
    "    end = time.time()\n",
    "    for i, (images, target) in enumerate(train_loader):\n",
    "        # measure data loading time\n",
    "        data_time.update(time.time() - end)\n",
    "\n",
    "        if GPU is not None:\n",
    "            images = images.cuda(GPU, non_blocking=True)\n",
    "        if torch.cuda.is_available():\n",
    "            target = target.cuda(GPU, non_blocking=True)\n",
    "\n",
    "        # compute output\n",
    "        with autocast(dtype=torch.float16):\n",
    "            output = model(images)\n",
    "            loss = criterion(output, target)\n",
    "\n",
    "        # measure accuracy and record loss\n",
    "        acc1, acc5 = accuracy(output, target, topk=(1, 5))\n",
    "        losses.update(loss.item(), images.size(0))\n",
    "        top1.update(acc1[0], images.size(0))\n",
    "        top5.update(acc5[0], images.size(0))\n",
    "\n",
    "        # compute gradient and do SGD step\n",
    "        optimizer.zero_grad()\n",
    "        scaler.scale(loss).backward()\n",
    "        scaler.step(optimizer)\n",
    "        scaler.update()\n",
    "        \n",
    "        #writer.add_scalar(\"Loss/train\", loss, global_step = global_step)\n",
    "        #writer.add_scalar(\"Acc1/train\", acc1, global_step = global_step)\n",
    "        #writer.add_scalar(\"Acc5/train\", acc5, global_step = global_step)\n",
    "        #global_step += 1\n",
    "\n",
    "        # measure elapsed time\n",
    "        batch_time.update(time.time() - end)\n",
    "        end = time.time()\n",
    "        \n",
    "        if i % PRINT_FREQ == 0:\n",
    "            progress.display(i)"
   ]
  },
  {
   "cell_type": "code",
   "execution_count": 13,
   "id": "fe1a00c6",
   "metadata": {
    "id": "ab30a1a4"
   },
   "outputs": [],
   "source": [
    "def validate(val_loader, model, criterion):\n",
    "    batch_time = AverageMeter('Time', ':6.3f')\n",
    "    losses = AverageMeter('Loss', ':.4e')\n",
    "    top1 = AverageMeter('Acc@1', ':6.2f')\n",
    "    top5 = AverageMeter('Acc@5', ':6.2f')\n",
    "    progress = ProgressMeter(\n",
    "        len(val_loader),\n",
    "        [batch_time, losses, top1, top5],\n",
    "        prefix='Test: ')\n",
    "\n",
    "    # switch to evaluate mode\n",
    "    model.eval()\n",
    "    scaler = GradScaler()\n",
    "\n",
    "    with torch.no_grad():\n",
    "        end = time.time()\n",
    "        for i, (images, target) in enumerate(val_loader):\n",
    "            if GPU is not None:\n",
    "                images = images.cuda(GPU, non_blocking=True)\n",
    "            if torch.cuda.is_available():\n",
    "                target = target.cuda(GPU, non_blocking=True)\n",
    "\n",
    "            # compute output\n",
    "            with autocast(dtype=torch.float16):\n",
    "                output = model(images)\n",
    "                loss = criterion(output, target)\n",
    "\n",
    "            # measure accuracy and record loss\n",
    "            acc1, acc5 = accuracy(output, target, topk=(1, 5))\n",
    "            losses.update(loss.item(), images.size(0))\n",
    "            top1.update(acc1[0], images.size(0))\n",
    "            top5.update(acc5[0], images.size(0))\n",
    "\n",
    "            # measure elapsed time\n",
    "            batch_time.update(time.time() - end)\n",
    "            end = time.time()\n",
    "\n",
    "            if i % PRINT_FREQ == 0:\n",
    "                progress.display(i)\n",
    "\n",
    "        # TODO: this should also be done with the ProgressMeter\n",
    "        print(' * Acc@1 {top1.avg:.3f} Acc@5 {top5.avg:.3f}'\n",
    "              .format(top1=top1, top5=top5))\n",
    "\n",
    "    return top1.avg"
   ]
  },
  {
   "cell_type": "code",
   "execution_count": 14,
   "id": "3016b660",
   "metadata": {
    "id": "afa7d9fd"
   },
   "outputs": [],
   "source": [
    "def save_checkpoint(state, is_best, filename='checkpoint.pth.tar'):\n",
    "    torch.save(state, filename)\n",
    "    if is_best:\n",
    "        shutil.copyfile(filename, 'model_best.pth.tar')"
   ]
  },
  {
   "cell_type": "code",
   "execution_count": 15,
   "id": "a61faecc",
   "metadata": {
    "id": "8c5f0ab4"
   },
   "outputs": [],
   "source": [
    "class AverageMeter(object):\n",
    "    \"\"\"Computes and stores the average and current value\"\"\"\n",
    "    def __init__(self, name, fmt=':f'):\n",
    "        self.name = name\n",
    "        self.fmt = fmt\n",
    "        self.reset()\n",
    "\n",
    "    def reset(self):\n",
    "        self.val = 0\n",
    "        self.avg = 0\n",
    "        self.sum = 0\n",
    "        self.count = 0\n",
    "\n",
    "    def update(self, val, n=1):\n",
    "        self.val = val\n",
    "        self.sum += val * n\n",
    "        self.count += n\n",
    "        self.avg = self.sum / self.count\n",
    "\n",
    "    def __str__(self):\n",
    "        fmtstr = '{name} {val' + self.fmt + '} ({avg' + self.fmt + '})'\n",
    "        return fmtstr.format(**self.__dict__)"
   ]
  },
  {
   "cell_type": "code",
   "execution_count": 16,
   "id": "430287d6",
   "metadata": {
    "id": "ce30c86a"
   },
   "outputs": [],
   "source": [
    "class ProgressMeter(object):\n",
    "    def __init__(self, num_batches, meters, prefix=\"\"):\n",
    "        self.batch_fmtstr = self._get_batch_fmtstr(num_batches)\n",
    "        self.meters = meters\n",
    "        self.prefix = prefix\n",
    "\n",
    "    def display(self, batch):\n",
    "        entries = [self.prefix + self.batch_fmtstr.format(batch)]\n",
    "        entries += [str(meter) for meter in self.meters]\n",
    "        print('\\t'.join(entries))\n",
    "\n",
    "    def _get_batch_fmtstr(self, num_batches):\n",
    "        num_digits = len(str(num_batches // 1))\n",
    "        fmt = '{:' + str(num_digits) + 'd}'\n",
    "        return '[' + fmt + '/' + fmt.format(num_batches) + ']'"
   ]
  },
  {
   "cell_type": "code",
   "execution_count": 17,
   "id": "f4f23778",
   "metadata": {
    "id": "7504ce7a"
   },
   "outputs": [],
   "source": [
    "def adjust_learning_rate(optimizer, epoch):\n",
    "    \"\"\"Sets the learning rate to the initial LR decayed by 10 every 30 epochs\"\"\"\n",
    "    global global_step\n",
    "    lr = LR * (0.1 ** (epoch // 3))\n",
    "    for param_group in optimizer.param_groups:\n",
    "        param_group['lr'] = lr\n",
    "    #writer.add_scalar(\"LR/train\", lr, global_step = global_step)   \n",
    "    "
   ]
  },
  {
   "cell_type": "code",
   "execution_count": 18,
   "id": "83f668fb",
   "metadata": {
    "id": "0d659923"
   },
   "outputs": [],
   "source": [
    "def accuracy(output, target, topk=(1,)):\n",
    "    \"\"\"Computes the accuracy over the k top predictions for the specified values of k\"\"\"\n",
    "    with torch.no_grad():\n",
    "        maxk = max(topk)\n",
    "        batch_size = target.size(0)\n",
    "\n",
    "        _, pred = output.topk(maxk, 1, True, True)\n",
    "        pred = pred.t()\n",
    "        correct = pred.eq(target.view(1, -1).expand_as(pred))\n",
    "\n",
    "        res = []\n",
    "        for k in topk:\n",
    "            correct_k = correct[:k].reshape(-1).float().sum(0, keepdim=True)\n",
    "            res.append(correct_k.mul_(100.0 / batch_size))\n",
    "        return res"
   ]
  },
  {
   "cell_type": "code",
   "execution_count": 19,
   "id": "2515d8b7",
   "metadata": {
    "id": "f74f06e1"
   },
   "outputs": [],
   "source": [
    "imagenet_mean_RGB = [0.47889522, 0.47227842, 0.43047404]\n",
    "imagenet_std_RGB = [0.229, 0.224, 0.225]"
   ]
  },
  {
   "cell_type": "code",
   "execution_count": 20,
   "id": "cc27140d",
   "metadata": {
    "id": "c005e2dd"
   },
   "outputs": [],
   "source": [
    "normalize = transforms.Normalize(mean=imagenet_mean_RGB, std=imagenet_std_RGB)"
   ]
  },
  {
   "cell_type": "code",
   "execution_count": 21,
   "id": "83ea3de3",
   "metadata": {
    "id": "29d54592"
   },
   "outputs": [],
   "source": [
    "IMG_SIZE = 224"
   ]
  },
  {
   "cell_type": "code",
   "execution_count": 22,
   "id": "b8bec07b",
   "metadata": {
    "id": "94059b7f"
   },
   "outputs": [],
   "source": [
    "NUM_CLASSES = 1000"
   ]
  },
  {
   "cell_type": "code",
   "execution_count": 23,
   "id": "109f7a54",
   "metadata": {
    "id": "788c0401"
   },
   "outputs": [],
   "source": [
    "model = models.__dict__[ARCH]()"
   ]
  },
  {
   "cell_type": "code",
   "execution_count": 24,
   "id": "c565a84f",
   "metadata": {
    "id": "63dc579e"
   },
   "outputs": [],
   "source": [
    "inf = model.fc.in_features"
   ]
  },
  {
   "cell_type": "code",
   "execution_count": 25,
   "id": "10c76a28",
   "metadata": {},
   "outputs": [
    {
     "data": {
      "text/plain": [
       "512"
      ]
     },
     "execution_count": 25,
     "metadata": {},
     "output_type": "execute_result"
    }
   ],
   "source": [
    "model.fc.in_features"
   ]
  },
  {
   "cell_type": "code",
   "execution_count": 26,
   "id": "bdc064d0",
   "metadata": {
    "id": "edf9cf5d"
   },
   "outputs": [],
   "source": [
    "model.fc = nn.Linear(inf, NUM_CLASSES)"
   ]
  },
  {
   "cell_type": "code",
   "execution_count": 27,
   "id": "143c1a2b",
   "metadata": {
    "id": "319e2d99"
   },
   "outputs": [
    {
     "data": {
      "text/plain": [
       "ResNet(\n",
       "  (conv1): Conv2d(3, 64, kernel_size=(7, 7), stride=(2, 2), padding=(3, 3), bias=False)\n",
       "  (bn1): BatchNorm2d(64, eps=1e-05, momentum=0.1, affine=True, track_running_stats=True)\n",
       "  (relu): ReLU(inplace=True)\n",
       "  (maxpool): MaxPool2d(kernel_size=3, stride=2, padding=1, dilation=1, ceil_mode=False)\n",
       "  (layer1): Sequential(\n",
       "    (0): BasicBlock(\n",
       "      (conv1): Conv2d(64, 64, kernel_size=(3, 3), stride=(1, 1), padding=(1, 1), bias=False)\n",
       "      (bn1): BatchNorm2d(64, eps=1e-05, momentum=0.1, affine=True, track_running_stats=True)\n",
       "      (relu): ReLU(inplace=True)\n",
       "      (conv2): Conv2d(64, 64, kernel_size=(3, 3), stride=(1, 1), padding=(1, 1), bias=False)\n",
       "      (bn2): BatchNorm2d(64, eps=1e-05, momentum=0.1, affine=True, track_running_stats=True)\n",
       "    )\n",
       "    (1): BasicBlock(\n",
       "      (conv1): Conv2d(64, 64, kernel_size=(3, 3), stride=(1, 1), padding=(1, 1), bias=False)\n",
       "      (bn1): BatchNorm2d(64, eps=1e-05, momentum=0.1, affine=True, track_running_stats=True)\n",
       "      (relu): ReLU(inplace=True)\n",
       "      (conv2): Conv2d(64, 64, kernel_size=(3, 3), stride=(1, 1), padding=(1, 1), bias=False)\n",
       "      (bn2): BatchNorm2d(64, eps=1e-05, momentum=0.1, affine=True, track_running_stats=True)\n",
       "    )\n",
       "  )\n",
       "  (layer2): Sequential(\n",
       "    (0): BasicBlock(\n",
       "      (conv1): Conv2d(64, 128, kernel_size=(3, 3), stride=(2, 2), padding=(1, 1), bias=False)\n",
       "      (bn1): BatchNorm2d(128, eps=1e-05, momentum=0.1, affine=True, track_running_stats=True)\n",
       "      (relu): ReLU(inplace=True)\n",
       "      (conv2): Conv2d(128, 128, kernel_size=(3, 3), stride=(1, 1), padding=(1, 1), bias=False)\n",
       "      (bn2): BatchNorm2d(128, eps=1e-05, momentum=0.1, affine=True, track_running_stats=True)\n",
       "      (downsample): Sequential(\n",
       "        (0): Conv2d(64, 128, kernel_size=(1, 1), stride=(2, 2), bias=False)\n",
       "        (1): BatchNorm2d(128, eps=1e-05, momentum=0.1, affine=True, track_running_stats=True)\n",
       "      )\n",
       "    )\n",
       "    (1): BasicBlock(\n",
       "      (conv1): Conv2d(128, 128, kernel_size=(3, 3), stride=(1, 1), padding=(1, 1), bias=False)\n",
       "      (bn1): BatchNorm2d(128, eps=1e-05, momentum=0.1, affine=True, track_running_stats=True)\n",
       "      (relu): ReLU(inplace=True)\n",
       "      (conv2): Conv2d(128, 128, kernel_size=(3, 3), stride=(1, 1), padding=(1, 1), bias=False)\n",
       "      (bn2): BatchNorm2d(128, eps=1e-05, momentum=0.1, affine=True, track_running_stats=True)\n",
       "    )\n",
       "  )\n",
       "  (layer3): Sequential(\n",
       "    (0): BasicBlock(\n",
       "      (conv1): Conv2d(128, 256, kernel_size=(3, 3), stride=(2, 2), padding=(1, 1), bias=False)\n",
       "      (bn1): BatchNorm2d(256, eps=1e-05, momentum=0.1, affine=True, track_running_stats=True)\n",
       "      (relu): ReLU(inplace=True)\n",
       "      (conv2): Conv2d(256, 256, kernel_size=(3, 3), stride=(1, 1), padding=(1, 1), bias=False)\n",
       "      (bn2): BatchNorm2d(256, eps=1e-05, momentum=0.1, affine=True, track_running_stats=True)\n",
       "      (downsample): Sequential(\n",
       "        (0): Conv2d(128, 256, kernel_size=(1, 1), stride=(2, 2), bias=False)\n",
       "        (1): BatchNorm2d(256, eps=1e-05, momentum=0.1, affine=True, track_running_stats=True)\n",
       "      )\n",
       "    )\n",
       "    (1): BasicBlock(\n",
       "      (conv1): Conv2d(256, 256, kernel_size=(3, 3), stride=(1, 1), padding=(1, 1), bias=False)\n",
       "      (bn1): BatchNorm2d(256, eps=1e-05, momentum=0.1, affine=True, track_running_stats=True)\n",
       "      (relu): ReLU(inplace=True)\n",
       "      (conv2): Conv2d(256, 256, kernel_size=(3, 3), stride=(1, 1), padding=(1, 1), bias=False)\n",
       "      (bn2): BatchNorm2d(256, eps=1e-05, momentum=0.1, affine=True, track_running_stats=True)\n",
       "    )\n",
       "  )\n",
       "  (layer4): Sequential(\n",
       "    (0): BasicBlock(\n",
       "      (conv1): Conv2d(256, 512, kernel_size=(3, 3), stride=(2, 2), padding=(1, 1), bias=False)\n",
       "      (bn1): BatchNorm2d(512, eps=1e-05, momentum=0.1, affine=True, track_running_stats=True)\n",
       "      (relu): ReLU(inplace=True)\n",
       "      (conv2): Conv2d(512, 512, kernel_size=(3, 3), stride=(1, 1), padding=(1, 1), bias=False)\n",
       "      (bn2): BatchNorm2d(512, eps=1e-05, momentum=0.1, affine=True, track_running_stats=True)\n",
       "      (downsample): Sequential(\n",
       "        (0): Conv2d(256, 512, kernel_size=(1, 1), stride=(2, 2), bias=False)\n",
       "        (1): BatchNorm2d(512, eps=1e-05, momentum=0.1, affine=True, track_running_stats=True)\n",
       "      )\n",
       "    )\n",
       "    (1): BasicBlock(\n",
       "      (conv1): Conv2d(512, 512, kernel_size=(3, 3), stride=(1, 1), padding=(1, 1), bias=False)\n",
       "      (bn1): BatchNorm2d(512, eps=1e-05, momentum=0.1, affine=True, track_running_stats=True)\n",
       "      (relu): ReLU(inplace=True)\n",
       "      (conv2): Conv2d(512, 512, kernel_size=(3, 3), stride=(1, 1), padding=(1, 1), bias=False)\n",
       "      (bn2): BatchNorm2d(512, eps=1e-05, momentum=0.1, affine=True, track_running_stats=True)\n",
       "    )\n",
       "  )\n",
       "  (avgpool): AdaptiveAvgPool2d(output_size=(1, 1))\n",
       "  (fc): Linear(in_features=512, out_features=1000, bias=True)\n",
       ")"
      ]
     },
     "execution_count": 27,
     "metadata": {},
     "output_type": "execute_result"
    }
   ],
   "source": [
    "model.cuda(GPU)\n",
    "model = torch.nn.parallel.DistributedDataParallel(model, device_ids=[GPU])"
   ]
  },
  {
   "cell_type": "code",
   "execution_count": 28,
   "id": "ee5a8eea",
   "metadata": {
    "id": "b8dc59b5"
   },
   "outputs": [],
   "source": [
    "criterion = nn.CrossEntropyLoss().cuda(0)"
   ]
  },
  {
   "cell_type": "code",
   "execution_count": 29,
   "id": "2dd92367",
   "metadata": {
    "id": "3999d84a"
   },
   "outputs": [],
   "source": [
    "optimizer = torch.optim.SGD(model.parameters(), LR,\n",
    "                                momentum=MOMENTUM,\n",
    "                                weight_decay=WEIGHT_DECAY)"
   ]
  },
  {
   "cell_type": "code",
   "execution_count": 30,
   "id": "35b4c2c8",
   "metadata": {
    "id": "9fae338b"
   },
   "outputs": [],
   "source": [
    "scheduler = torch.optim.lr_scheduler.CosineAnnealingLR(optimizer, T_max=EPOCHS)"
   ]
  },
  {
   "cell_type": "code",
   "execution_count": 31,
   "id": "bd313159",
   "metadata": {
    "id": "34dbcdb1"
   },
   "outputs": [],
   "source": [
    "transform_train = transforms.Compose([\n",
    "    transforms.RandomResizedCrop(IMG_SIZE),\n",
    "    transforms.RandomHorizontalFlip(),\n",
    "    transforms.ToTensor(),\n",
    "    transforms.Normalize(imagenet_mean_RGB, imagenet_std_RGB),\n",
    "])"
   ]
  },
  {
   "cell_type": "code",
   "execution_count": 32,
   "id": "c2d78ad5",
   "metadata": {
    "id": "e5275a69"
   },
   "outputs": [],
   "source": [
    "train_dataset = datasets.ImageFolder(\n",
    "    TRAINDIR, transform=transform_train)"
   ]
  },
  {
   "cell_type": "code",
   "execution_count": 33,
   "id": "46e6f1a3",
   "metadata": {
    "id": "854ca1ad"
   },
   "outputs": [],
   "source": [
    "transform_val = transforms.Compose([\n",
    "    transforms.RandomResizedCrop(IMG_SIZE),\n",
    "    transforms.ToTensor(),\n",
    "    transforms.Normalize(imagenet_mean_RGB, imagenet_std_RGB),\n",
    "])"
   ]
  },
  {
   "cell_type": "code",
   "execution_count": 34,
   "id": "4da6d277",
   "metadata": {
    "id": "abfa5fb6"
   },
   "outputs": [],
   "source": [
    "val_dataset = datasets.ImageFolder(\n",
    "    VALDIR, transform=transform_val)"
   ]
  },
  {
   "cell_type": "code",
   "execution_count": 35,
   "id": "e4c038f7",
   "metadata": {
    "id": "07a0bdf4"
   },
   "outputs": [],
   "source": [
    "train_loader = torch.utils.data.DataLoader(\n",
    "        train_dataset, batch_size=TRAIN_BATCH, shuffle=False,\n",
    "        num_workers=WORKERS, pin_memory=True, sampler=torch.utils.data.distributed.DistributedSampler(train_dataset))"
   ]
  },
  {
   "cell_type": "code",
   "execution_count": 36,
   "id": "e6e50e1a",
   "metadata": {
    "id": "192ae835"
   },
   "outputs": [],
   "source": [
    "val_loader = torch.utils.data.DataLoader(\n",
    "        val_dataset, batch_size=VAL_BATCH, shuffle=False,\n",
    "        num_workers=WORKERS, pin_memory=True, sampler=None) "
   ]
  },
  {
   "cell_type": "code",
   "execution_count": 37,
   "id": "6578d98c",
   "metadata": {
    "id": "1502c5db"
   },
   "outputs": [],
   "source": [
    "best_acc1 = 0"
   ]
  },
  {
   "cell_type": "code",
   "execution_count": 38,
   "id": "69202b9c",
   "metadata": {},
   "outputs": [
    {
     "name": "stdout",
     "output_type": "stream",
     "text": [
      "Batch size: 1028, allocated memory: 44.6904296875 MB total memory: 14971.875 MB\n"
     ]
    }
   ],
   "source": [
    "allocated_memory = torch.cuda.max_memory_allocated(GPU)\n",
    "total_memory = torch.cuda.get_device_properties(GPU).total_memory\n",
    "print(f\"Batch size: {TRAIN_BATCH}, allocated memory: {allocated_memory / 1024 / 1024} MB total memory: {total_memory / 1024 / 1024} MB\")"
   ]
  },
  {
   "cell_type": "code",
   "execution_count": 39,
   "id": "a7747038",
   "metadata": {
    "id": "ceb95e07"
   },
   "outputs": [
    {
     "name": "stdout",
     "output_type": "stream",
     "text": [
      "Epoch: [0][   0/1247]\tTime 30.835 (30.835)\tData 10.403 (10.403)\tLoss 6.9843e+00 (6.9843e+00)\tAcc@1   0.19 (  0.19)\tAcc@5   0.49 (  0.49)\n",
      "Epoch: [0][  10/1247]\tTime  1.282 ( 4.018)\tData  0.001 ( 0.946)\tLoss 6.9467e+00 (6.9683e+00)\tAcc@1   0.29 (  0.15)\tAcc@5   1.46 (  0.70)\n",
      "Epoch: [0][  20/1247]\tTime  1.282 ( 2.718)\tData  0.001 ( 0.496)\tLoss 6.9173e+00 (6.9504e+00)\tAcc@1   0.19 (  0.18)\tAcc@5   1.36 (  0.99)\n",
      "Epoch: [0][  30/1247]\tTime  1.291 ( 2.259)\tData  0.002 ( 0.337)\tLoss 6.8451e+00 (6.9252e+00)\tAcc@1   0.58 (  0.27)\tAcc@5   1.36 (  1.16)\n",
      "Epoch: [0][  40/1247]\tTime  1.292 ( 2.025)\tData  0.001 ( 0.255)\tLoss 6.7614e+00 (6.8917e+00)\tAcc@1   0.68 (  0.33)\tAcc@5   2.53 (  1.38)\n",
      "Epoch: [0][  50/1247]\tTime  1.308 ( 1.883)\tData  0.001 ( 0.205)\tLoss 6.6512e+00 (6.8522e+00)\tAcc@1   0.88 (  0.41)\tAcc@5   2.33 (  1.61)\n",
      "Epoch: [0][  60/1247]\tTime  1.306 ( 1.789)\tData  0.001 ( 0.172)\tLoss 6.5697e+00 (6.8139e+00)\tAcc@1   0.78 (  0.47)\tAcc@5   3.40 (  1.83)\n",
      "Epoch: [0][  70/1247]\tTime  1.309 ( 1.721)\tData  0.001 ( 0.148)\tLoss 6.5078e+00 (6.7781e+00)\tAcc@1   0.88 (  0.53)\tAcc@5   3.21 (  2.05)\n",
      "Epoch: [0][  80/1247]\tTime  1.309 ( 1.670)\tData  0.001 ( 0.130)\tLoss 6.4395e+00 (6.7425e+00)\tAcc@1   1.26 (  0.59)\tAcc@5   4.57 (  2.29)\n",
      "Epoch: [0][  90/1247]\tTime  1.319 ( 1.631)\tData  0.001 ( 0.116)\tLoss 6.4192e+00 (6.7086e+00)\tAcc@1   1.36 (  0.66)\tAcc@5   5.54 (  2.54)\n",
      "Epoch: [0][ 100/1247]\tTime  1.318 ( 1.600)\tData  0.001 ( 0.104)\tLoss 6.2623e+00 (6.6736e+00)\tAcc@1   1.85 (  0.73)\tAcc@5   5.74 (  2.78)\n",
      "Epoch: [0][ 110/1247]\tTime  1.326 ( 1.575)\tData  0.001 ( 0.095)\tLoss 6.2240e+00 (6.6401e+00)\tAcc@1   1.85 (  0.83)\tAcc@5   5.45 (  3.05)\n",
      "Epoch: [0][ 120/1247]\tTime  1.330 ( 1.554)\tData  0.002 ( 0.087)\tLoss 6.2162e+00 (6.6083e+00)\tAcc@1   1.95 (  0.91)\tAcc@5   5.64 (  3.31)\n",
      "Epoch: [0][ 130/1247]\tTime  1.321 ( 1.537)\tData  0.001 ( 0.081)\tLoss 6.1849e+00 (6.5794e+00)\tAcc@1   2.43 (  0.96)\tAcc@5   5.93 (  3.50)\n",
      "Epoch: [0][ 140/1247]\tTime  1.319 ( 1.522)\tData  0.001 ( 0.075)\tLoss 6.1188e+00 (6.5512e+00)\tAcc@1   2.14 (  1.03)\tAcc@5   7.00 (  3.70)\n",
      "Epoch: [0][ 150/1247]\tTime  1.341 ( 1.509)\tData  0.001 ( 0.070)\tLoss 6.1198e+00 (6.5237e+00)\tAcc@1   2.72 (  1.11)\tAcc@5   7.00 (  3.93)\n",
      "Epoch: [0][ 160/1247]\tTime  1.338 ( 1.499)\tData  0.001 ( 0.066)\tLoss 5.9887e+00 (6.4956e+00)\tAcc@1   2.53 (  1.18)\tAcc@5   8.07 (  4.16)\n",
      "Epoch: [0][ 170/1247]\tTime  1.334 ( 1.489)\tData  0.001 ( 0.062)\tLoss 6.0044e+00 (6.4689e+00)\tAcc@1   2.14 (  1.26)\tAcc@5   7.59 (  4.40)\n",
      "Epoch: [0][ 180/1247]\tTime  1.357 ( 1.481)\tData  0.002 ( 0.059)\tLoss 5.9768e+00 (6.4425e+00)\tAcc@1   1.46 (  1.33)\tAcc@5   7.68 (  4.63)\n",
      "Epoch: [0][ 190/1247]\tTime  1.341 ( 1.474)\tData  0.002 ( 0.056)\tLoss 5.9697e+00 (6.4179e+00)\tAcc@1   2.14 (  1.41)\tAcc@5   8.95 (  4.86)\n",
      "Epoch: [0][ 200/1247]\tTime  1.343 ( 1.468)\tData  0.001 ( 0.053)\tLoss 5.9262e+00 (6.3933e+00)\tAcc@1   3.40 (  1.46)\tAcc@5  10.21 (  5.07)\n",
      "Epoch: [0][ 210/1247]\tTime  1.339 ( 1.462)\tData  0.000 ( 0.051)\tLoss 5.9017e+00 (6.3683e+00)\tAcc@1   2.82 (  1.54)\tAcc@5   9.73 (  5.31)\n",
      "Epoch: [0][ 220/1247]\tTime 20.173 ( 1.626)\tData 18.846 ( 0.219)\tLoss 5.8321e+00 (6.3451e+00)\tAcc@1   3.31 (  1.62)\tAcc@5  10.12 (  5.55)\n",
      "Epoch: [0][ 230/1247]\tTime  4.000 ( 1.822)\tData  2.689 ( 0.418)\tLoss 5.8624e+00 (6.3235e+00)\tAcc@1   3.21 (  1.70)\tAcc@5  10.99 (  5.76)\n",
      "Epoch: [0][ 240/1247]\tTime  1.316 ( 1.966)\tData  0.000 ( 0.566)\tLoss 5.8174e+00 (6.3008e+00)\tAcc@1   3.79 (  1.80)\tAcc@5  11.38 (  6.02)\n",
      "Epoch: [0][ 250/1247]\tTime  1.308 ( 2.116)\tData  0.000 ( 0.720)\tLoss 5.8245e+00 (6.2792e+00)\tAcc@1   3.79 (  1.87)\tAcc@5  11.38 (  6.25)\n",
      "Epoch: [0][ 260/1247]\tTime 22.143 ( 2.340)\tData 20.843 ( 0.947)\tLoss 5.7429e+00 (6.2597e+00)\tAcc@1   4.28 (  1.95)\tAcc@5  11.87 (  6.45)\n",
      "Epoch: [0][ 270/1247]\tTime  1.983 ( 2.440)\tData  0.690 ( 1.051)\tLoss 5.7406e+00 (6.2399e+00)\tAcc@1   3.60 (  2.01)\tAcc@5  12.94 (  6.66)\n",
      "Epoch: [0][ 280/1247]\tTime  1.299 ( 2.516)\tData  0.000 ( 1.130)\tLoss 5.7421e+00 (6.2196e+00)\tAcc@1   4.18 (  2.10)\tAcc@5  13.13 (  6.88)\n",
      "Epoch: [0][ 290/1247]\tTime  1.297 ( 2.601)\tData  0.000 ( 1.218)\tLoss 5.6040e+00 (6.2000e+00)\tAcc@1   3.89 (  2.17)\tAcc@5  13.81 (  7.11)\n",
      "Epoch: [0][ 300/1247]\tTime 17.865 ( 2.730)\tData 16.572 ( 1.349)\tLoss 5.5945e+00 (6.1813e+00)\tAcc@1   4.67 (  2.24)\tAcc@5  14.30 (  7.32)\n",
      "Epoch: [0][ 310/1247]\tTime  1.946 ( 2.801)\tData  0.648 ( 1.423)\tLoss 5.6571e+00 (6.1627e+00)\tAcc@1   3.79 (  2.31)\tAcc@5  12.35 (  7.52)\n",
      "Epoch: [0][ 320/1247]\tTime  1.308 ( 2.843)\tData  0.001 ( 1.468)\tLoss 5.5764e+00 (6.1442e+00)\tAcc@1   4.18 (  2.39)\tAcc@5  13.52 (  7.73)\n",
      "Epoch: [0][ 330/1247]\tTime  1.312 ( 2.885)\tData  0.001 ( 1.512)\tLoss 5.5390e+00 (6.1259e+00)\tAcc@1   5.74 (  2.47)\tAcc@5  16.63 (  7.94)\n",
      "Epoch: [0][ 340/1247]\tTime  9.240 ( 2.937)\tData  7.935 ( 1.566)\tLoss 5.5079e+00 (6.1079e+00)\tAcc@1   4.09 (  2.54)\tAcc@5  14.88 (  8.16)\n",
      "Epoch: [0][ 350/1247]\tTime  1.299 ( 3.003)\tData  0.001 ( 1.634)\tLoss 5.4446e+00 (6.0908e+00)\tAcc@1   5.45 (  2.61)\tAcc@5  16.34 (  8.35)\n",
      "Epoch: [0][ 360/1247]\tTime  1.303 ( 3.020)\tData  0.001 ( 1.653)\tLoss 5.4847e+00 (6.0740e+00)\tAcc@1   5.74 (  2.70)\tAcc@5  16.44 (  8.56)\n",
      "Epoch: [0][ 370/1247]\tTime  1.307 ( 3.037)\tData  0.001 ( 1.672)\tLoss 5.3622e+00 (6.0565e+00)\tAcc@1   5.93 (  2.78)\tAcc@5  16.63 (  8.78)\n",
      "Epoch: [0][ 380/1247]\tTime 11.557 ( 3.077)\tData 10.254 ( 1.713)\tLoss 5.3932e+00 (6.0395e+00)\tAcc@1   5.74 (  2.86)\tAcc@5  16.15 (  8.99)\n",
      "Epoch: [0][ 390/1247]\tTime  1.306 ( 3.119)\tData  0.001 ( 1.756)\tLoss 5.3865e+00 (6.0234e+00)\tAcc@1   5.84 (  2.93)\tAcc@5  16.63 (  9.17)\n",
      "Epoch: [0][ 400/1247]\tTime  1.296 ( 3.129)\tData  0.001 ( 1.768)\tLoss 5.4459e+00 (6.0081e+00)\tAcc@1   6.52 (  3.01)\tAcc@5  16.44 (  9.36)\n",
      "Epoch: [0][ 410/1247]\tTime  1.310 ( 3.134)\tData  0.000 ( 1.775)\tLoss 5.4312e+00 (5.9925e+00)\tAcc@1   4.96 (  3.08)\tAcc@5  15.56 (  9.56)\n",
      "Epoch: [0][ 420/1247]\tTime  4.335 ( 3.146)\tData  3.021 ( 1.787)\tLoss 5.4658e+00 (5.9771e+00)\tAcc@1   6.03 (  3.17)\tAcc@5  15.56 (  9.77)\n",
      "Epoch: [0][ 430/1247]\tTime  1.302 ( 3.175)\tData  0.000 ( 1.818)\tLoss 5.2926e+00 (5.9621e+00)\tAcc@1   7.30 (  3.25)\tAcc@5  18.48 (  9.96)\n",
      "Epoch: [0][ 440/1247]\tTime  1.311 ( 3.169)\tData  0.000 ( 1.813)\tLoss 5.3640e+00 (5.9474e+00)\tAcc@1   6.03 (  3.32)\tAcc@5  18.77 ( 10.15)\n",
      "Epoch: [0][ 450/1247]\tTime  1.310 ( 3.160)\tData  0.001 ( 1.805)\tLoss 5.3464e+00 (5.9334e+00)\tAcc@1   6.42 (  3.39)\tAcc@5  18.77 ( 10.33)\n",
      "Epoch: [0][ 460/1247]\tTime  3.155 ( 3.158)\tData  1.845 ( 1.804)\tLoss 5.2572e+00 (5.9193e+00)\tAcc@1   8.37 (  3.46)\tAcc@5  18.77 ( 10.52)\n",
      "Epoch: [0][ 470/1247]\tTime  1.315 ( 3.167)\tData  0.001 ( 1.813)\tLoss 5.2000e+00 (5.9052e+00)\tAcc@1   6.61 (  3.54)\tAcc@5  19.07 ( 10.72)\n",
      "Epoch: [0][ 480/1247]\tTime  1.314 ( 3.156)\tData  0.001 ( 1.804)\tLoss 5.2976e+00 (5.8919e+00)\tAcc@1   6.52 (  3.61)\tAcc@5  17.70 ( 10.89)\n",
      "Epoch: [0][ 490/1247]\tTime  1.319 ( 3.151)\tData  0.001 ( 1.799)\tLoss 5.3272e+00 (5.8786e+00)\tAcc@1   5.64 (  3.68)\tAcc@5  17.90 ( 11.07)\n",
      "Epoch: [0][ 500/1247]\tTime  1.314 ( 3.140)\tData  0.002 ( 1.789)\tLoss 5.2445e+00 (5.8659e+00)\tAcc@1   7.39 (  3.76)\tAcc@5  18.68 ( 11.25)\n",
      "Epoch: [0][ 510/1247]\tTime  1.314 ( 3.159)\tData  0.000 ( 1.809)\tLoss 5.2472e+00 (5.8524e+00)\tAcc@1   7.98 (  3.83)\tAcc@5  19.84 ( 11.44)\n",
      "Epoch: [0][ 520/1247]\tTime  1.311 ( 3.140)\tData  0.000 ( 1.791)\tLoss 5.1654e+00 (5.8391e+00)\tAcc@1   8.17 (  3.91)\tAcc@5  20.82 ( 11.62)\n",
      "Epoch: [0][ 530/1247]\tTime  1.318 ( 3.125)\tData  0.001 ( 1.776)\tLoss 5.1704e+00 (5.8259e+00)\tAcc@1   8.37 (  3.99)\tAcc@5  22.18 ( 11.81)\n",
      "Epoch: [0][ 540/1247]\tTime  1.321 ( 3.111)\tData  0.001 ( 1.762)\tLoss 5.0866e+00 (5.8124e+00)\tAcc@1   8.37 (  4.07)\tAcc@5  22.47 ( 12.01)\n",
      "Epoch: [0][ 550/1247]\tTime  3.466 ( 3.114)\tData  2.145 ( 1.766)\tLoss 5.1078e+00 (5.8002e+00)\tAcc@1   8.27 (  4.13)\tAcc@5  22.76 ( 12.18)\n",
      "Epoch: [0][ 560/1247]\tTime  1.314 ( 3.101)\tData  0.000 ( 1.754)\tLoss 5.1162e+00 (5.7877e+00)\tAcc@1   8.27 (  4.20)\tAcc@5  21.60 ( 12.35)\n",
      "Epoch: [0][ 570/1247]\tTime  1.323 ( 3.085)\tData  0.001 ( 1.739)\tLoss 5.2138e+00 (5.7761e+00)\tAcc@1   7.49 (  4.28)\tAcc@5  20.82 ( 12.53)\n",
      "Epoch: [0][ 580/1247]\tTime  1.318 ( 3.067)\tData  0.000 ( 1.721)\tLoss 4.9732e+00 (5.7636e+00)\tAcc@1   9.14 (  4.36)\tAcc@5  24.90 ( 12.72)\n",
      "Epoch: [0][ 590/1247]\tTime  8.281 ( 3.065)\tData  6.965 ( 1.719)\tLoss 5.0511e+00 (5.7512e+00)\tAcc@1   8.37 (  4.44)\tAcc@5  24.61 ( 12.90)\n",
      "Epoch: [0][ 600/1247]\tTime  1.316 ( 3.052)\tData  0.001 ( 1.707)\tLoss 5.0635e+00 (5.7388e+00)\tAcc@1   9.14 (  4.53)\tAcc@5  23.25 ( 13.09)\n",
      "Epoch: [0][ 610/1247]\tTime  1.320 ( 3.037)\tData  0.000 ( 1.693)\tLoss 4.9534e+00 (5.7266e+00)\tAcc@1  10.60 (  4.61)\tAcc@5  24.71 ( 13.28)\n",
      "Epoch: [0][ 620/1247]\tTime  1.321 ( 3.020)\tData  0.001 ( 1.676)\tLoss 5.0434e+00 (5.7149e+00)\tAcc@1  10.12 (  4.69)\tAcc@5  24.32 ( 13.44)\n",
      "Epoch: [0][ 630/1247]\tTime  1.320 ( 3.015)\tData  0.001 ( 1.671)\tLoss 4.9532e+00 (5.7034e+00)\tAcc@1  11.09 (  4.77)\tAcc@5  25.58 ( 13.61)\n",
      "Epoch: [0][ 640/1247]\tTime  1.321 ( 2.999)\tData  0.001 ( 1.656)\tLoss 4.9442e+00 (5.6919e+00)\tAcc@1   8.95 (  4.84)\tAcc@5  23.64 ( 13.78)\n",
      "Epoch: [0][ 650/1247]\tTime  1.325 ( 2.984)\tData  0.001 ( 1.641)\tLoss 5.0264e+00 (5.6805e+00)\tAcc@1  10.60 (  4.92)\tAcc@5  24.22 ( 13.95)\n",
      "Epoch: [0][ 660/1247]\tTime  1.338 ( 2.968)\tData  0.001 ( 1.625)\tLoss 4.9215e+00 (5.6695e+00)\tAcc@1   9.92 (  4.98)\tAcc@5  23.74 ( 14.11)\n",
      "Epoch: [0][ 670/1247]\tTime  3.885 ( 2.962)\tData  2.569 ( 1.619)\tLoss 4.8948e+00 (5.6578e+00)\tAcc@1  10.89 (  5.06)\tAcc@5  25.78 ( 14.29)\n",
      "Epoch: [0][ 680/1247]\tTime  1.322 ( 2.945)\tData  0.000 ( 1.603)\tLoss 4.9303e+00 (5.6465e+00)\tAcc@1   9.24 (  5.14)\tAcc@5  23.54 ( 14.45)\n",
      "Epoch: [0][ 690/1247]\tTime  1.319 ( 2.930)\tData  0.001 ( 1.588)\tLoss 4.8822e+00 (5.6356e+00)\tAcc@1  11.58 (  5.22)\tAcc@5  26.75 ( 14.62)\n",
      "Epoch: [0][ 700/1247]\tTime  1.321 ( 2.916)\tData  0.000 ( 1.574)\tLoss 4.8009e+00 (5.6241e+00)\tAcc@1  10.89 (  5.30)\tAcc@5  26.56 ( 14.80)\n",
      "Epoch: [0][ 710/1247]\tTime  4.911 ( 2.908)\tData  3.580 ( 1.566)\tLoss 4.7505e+00 (5.6130e+00)\tAcc@1  12.16 (  5.38)\tAcc@5  27.24 ( 14.97)\n",
      "Epoch: [0][ 720/1247]\tTime  1.338 ( 2.890)\tData  0.001 ( 1.549)\tLoss 4.8015e+00 (5.6025e+00)\tAcc@1  10.51 (  5.45)\tAcc@5  27.63 ( 15.13)\n",
      "Epoch: [0][ 730/1247]\tTime  1.334 ( 2.874)\tData  0.001 ( 1.533)\tLoss 4.8514e+00 (5.5924e+00)\tAcc@1  11.48 (  5.53)\tAcc@5  29.67 ( 15.29)\n",
      "Epoch: [0][ 740/1247]\tTime  1.336 ( 2.857)\tData  0.001 ( 1.516)\tLoss 4.8089e+00 (5.5820e+00)\tAcc@1  11.87 (  5.61)\tAcc@5  26.56 ( 15.45)\n",
      "Epoch: [0][ 750/1247]\tTime  2.839 ( 2.849)\tData  1.511 ( 1.508)\tLoss 4.7981e+00 (5.5704e+00)\tAcc@1  12.65 (  5.69)\tAcc@5  27.92 ( 15.63)\n",
      "Epoch: [0][ 760/1247]\tTime  1.340 ( 2.832)\tData  0.002 ( 1.491)\tLoss 4.8368e+00 (5.5598e+00)\tAcc@1   9.92 (  5.76)\tAcc@5  27.53 ( 15.80)\n",
      "Epoch: [0][ 770/1247]\tTime  1.333 ( 2.819)\tData  0.001 ( 1.478)\tLoss 4.7186e+00 (5.5496e+00)\tAcc@1  11.58 (  5.84)\tAcc@5  28.21 ( 15.96)\n",
      "Epoch: [0][ 780/1247]\tTime  1.338 ( 2.802)\tData  0.000 ( 1.461)\tLoss 4.8216e+00 (5.5394e+00)\tAcc@1  10.99 (  5.91)\tAcc@5  27.82 ( 16.12)\n",
      "Epoch: [0][ 790/1247]\tTime  6.157 ( 2.795)\tData  4.825 ( 1.454)\tLoss 4.7069e+00 (5.5294e+00)\tAcc@1  11.77 (  5.99)\tAcc@5  28.70 ( 16.27)\n",
      "Epoch: [0][ 800/1247]\tTime  1.334 ( 2.780)\tData  0.000 ( 1.439)\tLoss 4.6402e+00 (5.5199e+00)\tAcc@1  12.94 (  6.06)\tAcc@5  29.96 ( 16.42)\n",
      "Epoch: [0][ 810/1247]\tTime  1.342 ( 2.766)\tData  0.001 ( 1.425)\tLoss 4.6696e+00 (5.5101e+00)\tAcc@1  13.62 (  6.14)\tAcc@5  29.09 ( 16.59)\n",
      "Epoch: [0][ 820/1247]\tTime  1.339 ( 2.750)\tData  0.001 ( 1.410)\tLoss 4.6567e+00 (5.4998e+00)\tAcc@1  13.33 (  6.22)\tAcc@5  30.25 ( 16.75)\n",
      "Epoch: [0][ 830/1247]\tTime  2.929 ( 2.739)\tData  1.592 ( 1.398)\tLoss 4.6293e+00 (5.4900e+00)\tAcc@1  14.01 (  6.30)\tAcc@5  31.13 ( 16.91)\n",
      "Epoch: [0][ 840/1247]\tTime  1.341 ( 2.726)\tData  0.001 ( 1.386)\tLoss 4.7245e+00 (5.4803e+00)\tAcc@1  12.65 (  6.37)\tAcc@5  30.06 ( 17.06)\n",
      "Epoch: [0][ 850/1247]\tTime  1.338 ( 2.714)\tData  0.001 ( 1.374)\tLoss 4.6786e+00 (5.4707e+00)\tAcc@1   9.44 (  6.45)\tAcc@5  29.67 ( 17.22)\n",
      "Epoch: [0][ 860/1247]\tTime  1.340 ( 2.701)\tData  0.001 ( 1.360)\tLoss 4.6445e+00 (5.4612e+00)\tAcc@1  12.26 (  6.52)\tAcc@5  29.77 ( 17.37)\n",
      "Epoch: [0][ 870/1247]\tTime  3.583 ( 2.690)\tData  2.240 ( 1.349)\tLoss 4.5268e+00 (5.4515e+00)\tAcc@1  13.62 (  6.60)\tAcc@5  33.66 ( 17.54)\n",
      "Epoch: [0][ 880/1247]\tTime  1.335 ( 2.676)\tData  0.002 ( 1.335)\tLoss 4.6306e+00 (5.4416e+00)\tAcc@1  12.35 (  6.68)\tAcc@5  29.86 ( 17.70)\n",
      "Epoch: [0][ 890/1247]\tTime  1.334 ( 2.663)\tData  0.001 ( 1.323)\tLoss 4.5543e+00 (5.4319e+00)\tAcc@1  13.72 (  6.76)\tAcc@5  30.84 ( 17.86)\n",
      "Epoch: [0][ 900/1247]\tTime  1.344 ( 2.650)\tData  0.001 ( 1.309)\tLoss 4.6390e+00 (5.4229e+00)\tAcc@1  13.81 (  6.84)\tAcc@5  31.03 ( 18.01)\n",
      "Epoch: [0][ 910/1247]\tTime  1.618 ( 2.639)\tData  0.280 ( 1.298)\tLoss 4.5503e+00 (5.4133e+00)\tAcc@1  14.79 (  6.92)\tAcc@5  32.78 ( 18.17)\n",
      "Epoch: [0][ 920/1247]\tTime  1.338 ( 2.625)\tData  0.001 ( 1.284)\tLoss 4.5672e+00 (5.4040e+00)\tAcc@1  14.69 (  7.01)\tAcc@5  34.05 ( 18.33)\n",
      "Epoch: [0][ 930/1247]\tTime  1.339 ( 2.613)\tData  0.000 ( 1.273)\tLoss 4.5034e+00 (5.3945e+00)\tAcc@1  14.59 (  7.08)\tAcc@5  33.17 ( 18.48)\n",
      "Epoch: [0][ 940/1247]\tTime  1.343 ( 2.601)\tData  0.001 ( 1.261)\tLoss 4.4644e+00 (5.3853e+00)\tAcc@1  14.40 (  7.16)\tAcc@5  33.66 ( 18.63)\n",
      "Epoch: [0][ 950/1247]\tTime  3.054 ( 2.592)\tData  1.717 ( 1.252)\tLoss 4.5209e+00 (5.3762e+00)\tAcc@1  15.86 (  7.24)\tAcc@5  33.85 ( 18.79)\n",
      "Epoch: [0][ 960/1247]\tTime  1.354 ( 2.582)\tData  0.002 ( 1.242)\tLoss 4.5481e+00 (5.3673e+00)\tAcc@1  13.81 (  7.31)\tAcc@5  32.39 ( 18.93)\n",
      "Epoch: [0][ 970/1247]\tTime  1.345 ( 2.571)\tData  0.001 ( 1.231)\tLoss 4.6126e+00 (5.3584e+00)\tAcc@1  13.81 (  7.39)\tAcc@5  31.81 ( 19.08)\n",
      "Epoch: [0][ 980/1247]\tTime  1.347 ( 2.561)\tData  0.001 ( 1.220)\tLoss 4.4499e+00 (5.3493e+00)\tAcc@1  16.54 (  7.47)\tAcc@5  33.27 ( 19.23)\n",
      "Epoch: [0][ 990/1247]\tTime  4.158 ( 2.552)\tData  2.817 ( 1.211)\tLoss 4.4816e+00 (5.3408e+00)\tAcc@1  14.49 (  7.53)\tAcc@5  32.49 ( 19.38)\n",
      "Epoch: [0][1000/1247]\tTime  1.348 ( 2.540)\tData  0.001 ( 1.199)\tLoss 4.5307e+00 (5.3323e+00)\tAcc@1  14.40 (  7.61)\tAcc@5  31.81 ( 19.52)\n",
      "Epoch: [0][1010/1247]\tTime  1.343 ( 2.528)\tData  0.001 ( 1.187)\tLoss 4.4703e+00 (5.3235e+00)\tAcc@1  14.69 (  7.69)\tAcc@5  33.37 ( 19.67)\n",
      "Epoch: [0][1020/1247]\tTime  1.346 ( 2.517)\tData  0.001 ( 1.176)\tLoss 4.4327e+00 (5.3148e+00)\tAcc@1  15.66 (  7.76)\tAcc@5  35.12 ( 19.82)\n",
      "Epoch: [0][1030/1247]\tTime  3.100 ( 2.508)\tData  1.751 ( 1.167)\tLoss 4.4144e+00 (5.3064e+00)\tAcc@1  16.54 (  7.83)\tAcc@5  33.85 ( 19.96)\n",
      "Epoch: [0][1040/1247]\tTime  1.594 ( 2.497)\tData  0.257 ( 1.156)\tLoss 4.3185e+00 (5.2978e+00)\tAcc@1  16.93 (  7.92)\tAcc@5  37.84 ( 20.11)\n",
      "Epoch: [0][1050/1247]\tTime  1.348 ( 2.487)\tData  0.000 ( 1.146)\tLoss 4.4719e+00 (5.2895e+00)\tAcc@1  14.30 (  7.98)\tAcc@5  35.21 ( 20.25)\n",
      "Epoch: [0][1060/1247]\tTime  1.354 ( 2.477)\tData  0.002 ( 1.136)\tLoss 4.5784e+00 (5.2812e+00)\tAcc@1  13.13 (  8.06)\tAcc@5  30.74 ( 20.39)\n",
      "Epoch: [0][1070/1247]\tTime  1.351 ( 2.468)\tData  0.001 ( 1.127)\tLoss 4.4440e+00 (5.2730e+00)\tAcc@1  13.72 (  8.13)\tAcc@5  32.39 ( 20.53)\n",
      "Epoch: [0][1080/1247]\tTime  1.428 ( 2.459)\tData  0.086 ( 1.118)\tLoss 4.3952e+00 (5.2646e+00)\tAcc@1  15.56 (  8.21)\tAcc@5  34.92 ( 20.67)\n",
      "Epoch: [0][1090/1247]\tTime  1.348 ( 2.449)\tData  0.000 ( 1.108)\tLoss 4.3959e+00 (5.2565e+00)\tAcc@1  16.15 (  8.27)\tAcc@5  35.99 ( 20.81)\n",
      "Epoch: [0][1100/1247]\tTime  1.343 ( 2.440)\tData  0.000 ( 1.099)\tLoss 4.2375e+00 (5.2483e+00)\tAcc@1  17.90 (  8.35)\tAcc@5  37.84 ( 20.95)\n",
      "Epoch: [0][1110/1247]\tTime  1.346 ( 2.432)\tData  0.001 ( 1.090)\tLoss 4.4886e+00 (5.2406e+00)\tAcc@1  15.37 (  8.42)\tAcc@5  33.27 ( 21.08)\n",
      "Epoch: [0][1120/1247]\tTime  2.778 ( 2.423)\tData  1.427 ( 1.082)\tLoss 4.3947e+00 (5.2327e+00)\tAcc@1  15.66 (  8.49)\tAcc@5  35.31 ( 21.21)\n",
      "Epoch: [0][1130/1247]\tTime  1.348 ( 2.415)\tData  0.001 ( 1.074)\tLoss 4.3211e+00 (5.2248e+00)\tAcc@1  17.51 (  8.57)\tAcc@5  36.28 ( 21.35)\n",
      "Epoch: [0][1140/1247]\tTime  1.349 ( 2.406)\tData  0.001 ( 1.064)\tLoss 4.3047e+00 (5.2169e+00)\tAcc@1  15.95 (  8.64)\tAcc@5  36.09 ( 21.48)\n",
      "Epoch: [0][1150/1247]\tTime  1.358 ( 2.397)\tData  0.001 ( 1.055)\tLoss 4.2958e+00 (5.2091e+00)\tAcc@1  18.00 (  8.71)\tAcc@5  38.91 ( 21.61)\n",
      "Epoch: [0][1160/1247]\tTime  1.354 ( 2.390)\tData  0.004 ( 1.048)\tLoss 4.2787e+00 (5.2014e+00)\tAcc@1  18.00 (  8.78)\tAcc@5  39.01 ( 21.74)\n",
      "Epoch: [0][1170/1247]\tTime  1.349 ( 2.384)\tData  0.000 ( 1.042)\tLoss 4.2887e+00 (5.1936e+00)\tAcc@1  18.29 (  8.85)\tAcc@5  35.99 ( 21.87)\n",
      "Epoch: [0][1180/1247]\tTime  1.356 ( 2.375)\tData  0.001 ( 1.034)\tLoss 4.3512e+00 (5.1860e+00)\tAcc@1  15.66 (  8.92)\tAcc@5  36.67 ( 22.00)\n",
      "Epoch: [0][1190/1247]\tTime  1.347 ( 2.367)\tData  0.001 ( 1.025)\tLoss 4.2474e+00 (5.1785e+00)\tAcc@1  17.61 (  8.99)\tAcc@5  38.52 ( 22.13)\n",
      "Epoch: [0][1200/1247]\tTime  1.358 ( 2.359)\tData  0.001 ( 1.017)\tLoss 4.3968e+00 (5.1712e+00)\tAcc@1  17.12 (  9.06)\tAcc@5  35.02 ( 22.25)\n",
      "Epoch: [0][1210/1247]\tTime  1.346 ( 2.351)\tData  0.001 ( 1.009)\tLoss 4.2154e+00 (5.1636e+00)\tAcc@1  17.22 (  9.13)\tAcc@5  36.38 ( 22.38)\n",
      "Epoch: [0][1220/1247]\tTime  1.349 ( 2.343)\tData  0.000 ( 1.001)\tLoss 4.3119e+00 (5.1561e+00)\tAcc@1  17.02 (  9.20)\tAcc@5  37.94 ( 22.51)\n",
      "Epoch: [0][1230/1247]\tTime  1.805 ( 2.337)\tData  0.457 ( 0.995)\tLoss 4.2344e+00 (5.1488e+00)\tAcc@1  16.54 (  9.26)\tAcc@5  38.04 ( 22.64)\n",
      "Epoch: [0][1240/1247]\tTime  1.354 ( 2.329)\tData  0.000 ( 0.987)\tLoss 4.2064e+00 (5.1412e+00)\tAcc@1  18.58 (  9.34)\tAcc@5  37.94 ( 22.76)\n",
      "Test: [ 0/49]\tTime 42.099 (42.099)\tLoss 4.1616e+00 (4.1616e+00)\tAcc@1  19.36 ( 19.36)\tAcc@5  43.77 ( 43.77)\n",
      "Test: [10/49]\tTime  0.466 ( 7.445)\tLoss 4.9638e+00 (4.6511e+00)\tAcc@1   7.39 ( 12.70)\tAcc@5  22.47 ( 30.40)\n",
      "Test: [20/49]\tTime  0.464 ( 5.716)\tLoss 4.8417e+00 (4.6032e+00)\tAcc@1  10.89 ( 12.53)\tAcc@5  28.70 ( 30.99)\n",
      "Test: [30/49]\tTime  0.463 ( 4.925)\tLoss 4.8872e+00 (4.6930e+00)\tAcc@1  10.80 ( 11.80)\tAcc@5  27.72 ( 29.55)\n",
      "Test: [40/49]\tTime 25.765 ( 5.109)\tLoss 5.2358e+00 (4.7504e+00)\tAcc@1   4.57 ( 11.48)\tAcc@5  17.02 ( 28.53)\n",
      " * Acc@1 12.136 Acc@5 29.452\n",
      "lr: [0.0]\n",
      "CPU times: user 31min 5s, sys: 3min 56s, total: 35min 1s\n",
      "Wall time: 52min 15s\n"
     ]
    }
   ],
   "source": [
    "%%time\n",
    "global_step = 0\n",
    "for epoch in range(START_EPOCH, EPOCHS):\n",
    "    adjust_learning_rate(optimizer, epoch)\n",
    "\n",
    "    # train for one epoch\n",
    "    train(train_loader, model, criterion, optimizer, epoch)\n",
    "    # evaluate on validation set\n",
    "    acc1 = validate(val_loader, model, criterion)\n",
    "\n",
    "    # remember best acc@1 and save checkpoint\n",
    "    is_best = acc1 > best_acc1\n",
    "    best_acc1 = max(acc1, best_acc1)\n",
    "           \n",
    "    save_checkpoint({\n",
    "        'epoch': epoch + 1,\n",
    "        'arch': ARCH,\n",
    "        'state_dict': model.state_dict(),\n",
    "        'best_acc1': best_acc1,\n",
    "        'optimizer' : optimizer.state_dict(),\n",
    "    }, is_best)\n",
    "    \n",
    "    scheduler.step()\n",
    "    print('lr: ' + str(scheduler.get_last_lr()))"
   ]
  }
 ],
 "metadata": {
  "colab": {
   "name": "cinic.ipynb",
   "provenance": []
  },
  "kernelspec": {
   "display_name": "Python 3 (ipykernel)",
   "language": "python",
   "name": "python3"
  },
  "language_info": {
   "codemirror_mode": {
    "name": "ipython",
    "version": 3
   },
   "file_extension": ".py",
   "mimetype": "text/x-python",
   "name": "python",
   "nbconvert_exporter": "python",
   "pygments_lexer": "ipython3",
   "version": "3.8.10"
  }
 },
 "nbformat": 4,
 "nbformat_minor": 5
}
